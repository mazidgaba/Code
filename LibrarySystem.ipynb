{
  "nbformat": 4,
  "nbformat_minor": 0,
  "metadata": {
    "colab": {
      "provenance": [],
      "authorship_tag": "ABX9TyMfQBZZw3VdNkHjtgF9uTtb",
      "include_colab_link": true
    },
    "kernelspec": {
      "name": "python3",
      "display_name": "Python 3"
    },
    "language_info": {
      "name": "python"
    }
  },
  "cells": [
    {
      "cell_type": "markdown",
      "metadata": {
        "id": "view-in-github",
        "colab_type": "text"
      },
      "source": [
        "<a href=\"https://colab.research.google.com/github/mazidgaba/Code/blob/main/LibrarySystem.ipynb\" target=\"_parent\"><img src=\"https://colab.research.google.com/assets/colab-badge.svg\" alt=\"Open In Colab\"/></a>"
      ]
    },
    {
      "cell_type": "code",
      "execution_count": null,
      "metadata": {
        "colab": {
          "base_uri": "https://localhost:8080/"
        },
        "id": "_CwLEajWk7xL",
        "outputId": "971d7906-22d2-4210-99d2-4ac7f795074f"
      },
      "outputs": [
        {
          "name": "stdout",
          "output_type": "stream",
          "text": [
            "\n",
            " ====== Welcome to Central Library ======\n",
            "        Please choose an option:\n",
            "        1. List all the books\n",
            "        2. Request a book\n",
            "        3. Add/Return a book\n",
            "        4. Exit the Library\n",
            "        \n",
            "Enter a choice: 1\n",
            "Books present in this library are: \n",
            " *Algorithms\n",
            " *Django\n",
            " *Clrs\n",
            " *Python Notes\n",
            "\n",
            " ====== Welcome to Central Library ======\n",
            "        Please choose an option:\n",
            "        1. List all the books\n",
            "        2. Request a book\n",
            "        3. Add/Return a book\n",
            "        4. Exit the Library\n",
            "        \n",
            "Enter a choice: 2\n",
            "Enter the name of the book you want to borrow: 3\n",
            "Sorry, This book is either not available or has already been issued to someone else. Please wait until the book is available\n",
            "\n",
            " ====== Welcome to Central Library ======\n",
            "        Please choose an option:\n",
            "        1. List all the books\n",
            "        2. Request a book\n",
            "        3. Add/Return a book\n",
            "        4. Exit the Library\n",
            "        \n",
            "Enter a choice: 3\n"
          ]
        }
      ],
      "source": [
        "class Library:\n",
        "    def __init__(self, listOfBooks):\n",
        "        self.books = listOfBooks\n",
        "\n",
        "    def displayAvailableBooks(self):\n",
        "        print(\"Books present in this library are: \")\n",
        "        for book in self.books:\n",
        "            print(\" *\" + book)\n",
        "\n",
        "    def borrowBook(self, bookName):\n",
        "        if bookName in self.books:\n",
        "            print(f\"You have been issued {bookName}. Please keep it safe and return it within 30 days\")\n",
        "            self.books.remove(bookName)\n",
        "            return True\n",
        "        else:\n",
        "            print(\"Sorry, This book is either not available or has already been issued to someone else. Please wait until the book is available\")\n",
        "            return False\n",
        "\n",
        "    def returnBook(self, bookName):\n",
        "        self.books.append(bookName)\n",
        "        print(\"Thanks for returning this book! Hope you enjoyed reading it. Have a great day ahead!\")\n",
        "\n",
        "class Student:\n",
        "    def requestBook(self):\n",
        "        self.book = input(\"Enter the name of the book you want to borrow: \")\n",
        "        return self.book\n",
        "\n",
        "    def returnBook(self):\n",
        "        self.book = input(\"Enter the name of the book you want to return: \")\n",
        "        return self.book\n",
        "\n",
        "\n",
        "if __name__ == \"__main__\":\n",
        "    centraLibrary = Library([\"Algorithms\", \"Django\", \"Clrs\", \"Python Notes\"])\n",
        "    student = Student()\n",
        "    # centraLibrary.displayAvailableBooks()\n",
        "    while(True):\n",
        "        welcomeMsg = '''\\n ====== Welcome to Central Library ======\n",
        "        Please choose an option:\n",
        "        1. List all the books\n",
        "        2. Request a book\n",
        "        3. Add/Return a book\n",
        "        4. Exit the Library\n",
        "        '''\n",
        "        print(welcomeMsg)\n",
        "        a = int(input(\"Enter a choice: \"))\n",
        "        if a == 1:\n",
        "            centraLibrary.displayAvailableBooks()\n",
        "        elif a == 2:\n",
        "            centraLibrary.borrowBook(student.requestBook())\n",
        "        elif a == 3:\n",
        "            centraLibrary.returnBook(student.returnBook())\n",
        "        elif a == 4:\n",
        "            print(\"Thanks for choosing Central Library. Have a great day ahead!\")\n",
        "            exit()\n",
        "        else:\n",
        "            print(\"Invalid Choice!\")\n",
        "\n",
        "\n"
      ]
    }
  ]
}