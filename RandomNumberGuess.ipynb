{
  "nbformat": 4,
  "nbformat_minor": 0,
  "metadata": {
    "colab": {
      "provenance": [],
      "authorship_tag": "ABX9TyOYsmUbKz5aIOVUtwvXsVuZ",
      "include_colab_link": true
    },
    "kernelspec": {
      "name": "python3",
      "display_name": "Python 3"
    },
    "language_info": {
      "name": "python"
    }
  },
  "cells": [
    {
      "cell_type": "markdown",
      "metadata": {
        "id": "view-in-github",
        "colab_type": "text"
      },
      "source": [
        "<a href=\"https://colab.research.google.com/github/mazidgaba/Code/blob/main/RandomNumberGuess.ipynb\" target=\"_parent\"><img src=\"https://colab.research.google.com/assets/colab-badge.svg\" alt=\"Open In Colab\"/></a>"
      ]
    },
    {
      "cell_type": "code",
      "execution_count": 1,
      "metadata": {
        "colab": {
          "base_uri": "https://localhost:8080/",
          "height": 506
        },
        "id": "75TCMDdYkQBK",
        "outputId": "ef694d3b-026a-41a6-877e-507013397b6a"
      },
      "outputs": [
        {
          "name": "stdout",
          "output_type": "stream",
          "text": [
            "Enter your guess: 78\n",
            "You guessed it wrong! Enter a smaller number\n",
            "Enter your guess: 87\n",
            "You guessed it wrong! Enter a smaller number\n",
            "Enter your guess: 3\n",
            "You guessed it wrong! Enter a larger number\n",
            "Enter your guess: 4\n",
            "You guessed it wrong! Enter a larger number\n",
            "Enter your guess: 5\n",
            "You guessed it wrong! Enter a larger number\n",
            "Enter your guess: 6\n",
            "You guessed it wrong! Enter a larger number\n",
            "Enter your guess: 7\n",
            "You guessed it wrong! Enter a larger number\n",
            "Enter your guess: 8\n",
            "You guessed it wrong! Enter a larger number\n",
            "Enter your guess: \n"
          ]
        },
        {
          "output_type": "error",
          "ename": "ValueError",
          "evalue": "invalid literal for int() with base 10: ''",
          "traceback": [
            "\u001b[0;31m---------------------------------------------------------------------------\u001b[0m",
            "\u001b[0;31mValueError\u001b[0m                                Traceback (most recent call last)",
            "\u001b[0;32m<ipython-input-1-2b294dabdda2>\u001b[0m in \u001b[0;36m<cell line: 6>\u001b[0;34m()\u001b[0m\n\u001b[1;32m      5\u001b[0m \u001b[0;34m\u001b[0m\u001b[0m\n\u001b[1;32m      6\u001b[0m \u001b[0;32mwhile\u001b[0m\u001b[0;34m(\u001b[0m\u001b[0muserGuess\u001b[0m \u001b[0;34m!=\u001b[0m \u001b[0mrandNumber\u001b[0m\u001b[0;34m)\u001b[0m\u001b[0;34m:\u001b[0m\u001b[0;34m\u001b[0m\u001b[0;34m\u001b[0m\u001b[0m\n\u001b[0;32m----> 7\u001b[0;31m     \u001b[0muserGuess\u001b[0m \u001b[0;34m=\u001b[0m \u001b[0mint\u001b[0m\u001b[0;34m(\u001b[0m\u001b[0minput\u001b[0m\u001b[0;34m(\u001b[0m\u001b[0;34m\"Enter your guess: \"\u001b[0m\u001b[0;34m)\u001b[0m\u001b[0;34m)\u001b[0m\u001b[0;34m\u001b[0m\u001b[0;34m\u001b[0m\u001b[0m\n\u001b[0m\u001b[1;32m      8\u001b[0m     \u001b[0mguesses\u001b[0m \u001b[0;34m+=\u001b[0m \u001b[0;36m1\u001b[0m\u001b[0;34m\u001b[0m\u001b[0;34m\u001b[0m\u001b[0m\n\u001b[1;32m      9\u001b[0m     \u001b[0;32mif\u001b[0m\u001b[0;34m(\u001b[0m\u001b[0muserGuess\u001b[0m\u001b[0;34m==\u001b[0m\u001b[0mrandNumber\u001b[0m\u001b[0;34m)\u001b[0m\u001b[0;34m:\u001b[0m\u001b[0;34m\u001b[0m\u001b[0;34m\u001b[0m\u001b[0m\n",
            "\u001b[0;31mValueError\u001b[0m: invalid literal for int() with base 10: ''"
          ]
        }
      ],
      "source": [
        "import random\n",
        "randNumber = random.randint(1, 100)\n",
        "userGuess = None\n",
        "guesses = 0\n",
        "\n",
        "while(userGuess != randNumber):\n",
        "    userGuess = int(input(\"Enter your guess: \"))\n",
        "    guesses += 1\n",
        "    if(userGuess==randNumber):\n",
        "        print(\"You guessed it right!\")\n",
        "    else:\n",
        "        if(userGuess>randNumber):\n",
        "            print(\"You guessed it wrong! Enter a smaller number\")\n",
        "        else:\n",
        "            print(\"You guessed it wrong! Enter a larger number\")\n",
        "\n",
        "print(f\"You guessed the number in {guesses} guesses\")\n",
        "with open(\"hiscore.txt\", \"r\") as f:\n",
        "    hiscore = int(f.read())\n",
        "\n",
        "if(guesses<hiscore):\n",
        "    print(\"You have just broken the high score!\")\n",
        "    with open(\"hiscore.txt\", \"w\") as f:\n",
        "        f.write(str(guesses))\n",
        "9"
      ]
    }
  ]
}